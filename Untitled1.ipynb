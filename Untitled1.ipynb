{
  "nbformat": 4,
  "nbformat_minor": 0,
  "metadata": {
    "colab": {
      "provenance": [],
      "authorship_tag": "ABX9TyP4xc1YCBkzxYf1Ogh+dH6A",
      "include_colab_link": true
    },
    "kernelspec": {
      "name": "python3",
      "display_name": "Python 3"
    },
    "language_info": {
      "name": "python"
    }
  },
  "cells": [
    {
      "cell_type": "markdown",
      "metadata": {
        "id": "view-in-github",
        "colab_type": "text"
      },
      "source": [
        "<a href=\"https://colab.research.google.com/github/bashartech/py-collab/blob/main/Untitled1.ipynb\" target=\"_parent\"><img src=\"https://colab.research.google.com/assets/colab-badge.svg\" alt=\"Open In Colab\"/></a>"
      ]
    },
    {
      "cell_type": "code",
      "source": [
        "\n",
        "# Understanding String Literals\n",
        "\n",
        "firstName = 'Bashar'\n",
        "lastName = \" Sheikh \"\n",
        "otherInfo = \"\"\" I study in government degree gulshan college in medical science\n",
        "                and I want to become a doctor from medical university \"\"\"\n",
        "\n",
        "# What is the advantage of each type of quotation ?\n",
        "\n",
        "# Single ('...') and double (\"...\") quotes are used to define\n",
        "# single-line strings, and both work interchangeably.\n",
        "# However, triple quotes ('''...''' or \"\"\"...\"\"\") are required for multi-line strings,\n",
        "# as they preserve formatting and line breaks. Without them, multi-line strings will not be accepted.\n",
        "\n",
        "novelInfo = \"The writer of the novel prisoner of zenda is 'Sir Anthony Hope'. \"\n",
        "favHobby = \"\"\" My hobbies including reading books related to medical science, physics and programming and including this I like to participate in\n",
        "the tournaments of cricket \"\"\"\n",
        "\n",
        "# String Methods\n",
        "\n",
        "full_name = 'M.Bashar Sheikh'\n",
        "print(full_name.upper())\n",
        "print(full_name.lower())\n",
        "print(full_name.title())\n",
        "\n",
        "messy_text = \" Python programming is fun! \"\n",
        "print(messy_text.strip())\n",
        "print(messy_text.replace(\"fun\", \"amazing\"))\n",
        "print(messy_text.count(\"i\"))\n",
        "\n",
        "sentence = \"The quick brown fox jumps over the lazy dog\"\n",
        "new_sentence = \"-\".join(sentence.split())\n",
        "print(sentence.split())\n",
        "print(new_sentence)\n",
        "print(sentence.startswith(\"The\"))\n",
        "print(sentence.find(\"fox\"))\n",
        "\n",
        "\n"
      ],
      "metadata": {
        "colab": {
          "base_uri": "https://localhost:8080/"
        },
        "id": "svKx7XqBRkqM",
        "outputId": "55f6aa0f-89a8-4155-cfd3-ea8f6f4e07dc"
      },
      "execution_count": 18,
      "outputs": [
        {
          "output_type": "stream",
          "name": "stdout",
          "text": [
            "M.BASHAR SHEIKH\n",
            "m.bashar sheikh\n",
            "M.Bashar Sheikh\n",
            "Python programming is fun!\n",
            " Python programming is amazing! \n",
            "2\n",
            "['The', 'quick', 'brown', 'fox', 'jumps', 'over', 'the', 'lazy', 'dog']\n",
            "The-quick-brown-fox-jumps-over-the-lazy-dog\n",
            "True\n",
            "16\n"
          ]
        }
      ]
    },
    {
      "cell_type": "code",
      "source": [
        "# F-Strings\n",
        "\n",
        "name = \"M.Bashar Sheikh\"\n",
        "age = 19\n",
        "favLang = \"Typescript\"\n",
        "\n",
        "info = f'''\n",
        "My name is {name} and I am {age} years old.\n",
        "I enjoy programming in {favLang}. It's my favorite!\n",
        "'''\n",
        "mathExp = f\" In 5 years, I will be {age + 5} years old \"\n",
        "print(info)\n",
        "print(mathExp)\n"
      ],
      "metadata": {
        "colab": {
          "base_uri": "https://localhost:8080/"
        },
        "id": "oFcYMK5mbR8D",
        "outputId": "4ad89ff4-57bb-4cdf-a2ef-1a0671a36d7b"
      },
      "execution_count": 25,
      "outputs": [
        {
          "output_type": "stream",
          "name": "stdout",
          "text": [
            "\n",
            "My name is M.Bashar Sheikh and I am 19 years old.\n",
            "I enjoy programming in Typescript. It's my favorite!\n",
            "\n",
            " In 5 years, I will be 24 years old \n"
          ]
        }
      ]
    },
    {
      "cell_type": "code",
      "source": [
        "# Combining string methods with f strings\n",
        "\n",
        "firstName = input(\"Enter Your First Name \")\n",
        "lastName = input(\"Enter Your Last Name \")\n",
        "fullName = firstName + lastName\n",
        "birthYear = int(input(\"Enter Your Birth Year \"))\n",
        "currentYear = 2025\n",
        "age = currentYear - birthYear\n",
        "username = f\"Username: {firstName.lower()}{lastName.lower()}{birthYear}\"\n",
        "print(full_name.title())\n",
        "print(f\"\"\" Profile: {firstName}, Age: {age},\n",
        "Username = {username}  \"\"\")"
      ],
      "metadata": {
        "colab": {
          "base_uri": "https://localhost:8080/"
        },
        "id": "RD-L736mbakC",
        "outputId": "afaefa42-b28a-49fe-ab4c-349ef0d8bdb7"
      },
      "execution_count": 41,
      "outputs": [
        {
          "output_type": "stream",
          "name": "stdout",
          "text": [
            "Enter Your First Name Bashar\n",
            "Enter Your Last Name Sheikh\n",
            "Enter Your Birth Year 2005\n",
            "M.Bashar Sheikh\n",
            " Profile: Bashar, Age: 20, \n",
            "Username = Username: basharsheikh2005  \n"
          ]
        }
      ]
    },
    {
      "cell_type": "markdown",
      "source": [],
      "metadata": {
        "id": "rtlRgKdMRqtn"
      }
    }
  ]
}