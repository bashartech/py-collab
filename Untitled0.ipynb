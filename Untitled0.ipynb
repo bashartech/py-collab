{
  "nbformat": 4,
  "nbformat_minor": 0,
  "metadata": {
    "colab": {
      "provenance": [],
      "authorship_tag": "ABX9TyOeYEpWE88cbomCgYZCgYnZ",
      "include_colab_link": true
    },
    "kernelspec": {
      "name": "python3",
      "display_name": "Python 3"
    },
    "language_info": {
      "name": "python"
    }
  },
  "cells": [
    {
      "cell_type": "markdown",
      "metadata": {
        "id": "view-in-github",
        "colab_type": "text"
      },
      "source": [
        "<a href=\"https://colab.research.google.com/github/bashartech/py-collab/blob/main/Untitled0.ipynb\" target=\"_parent\"><img src=\"https://colab.research.google.com/assets/colab-badge.svg\" alt=\"Open In Colab\"/></a>"
      ]
    },
    {
      "cell_type": "code",
      "execution_count": null,
      "metadata": {
        "colab": {
          "base_uri": "https://localhost:8080/"
        },
        "id": "qdHbBVGoiSZY",
        "outputId": "ef97018e-dfff-4c3b-fe4d-7a9c4dfe67e6"
      },
      "outputs": [
        {
          "output_type": "stream",
          "name": "stdout",
          "text": [
            "hello world\n"
          ]
        }
      ],
      "source": [
        "print(\"hello world\")"
      ]
    },
    {
      "cell_type": "code",
      "source": [
        "firstName = \"M.Bashar\"\n",
        "lastName = \"Sheikh\"\n",
        "age = 18\n",
        "fullName = f'My name is {firstName} {lastName} and my age is {age}'\n",
        "print(fullName)"
      ],
      "metadata": {
        "colab": {
          "base_uri": "https://localhost:8080/"
        },
        "id": "GJuiioR5i37Q",
        "outputId": "ce31a7d0-48ab-4133-e55f-74ca9bd17423"
      },
      "execution_count": null,
      "outputs": [
        {
          "output_type": "stream",
          "name": "stdout",
          "text": [
            "My name is M.Bashar Sheikh and my age is 18\n"
          ]
        }
      ]
    },
    {
      "cell_type": "code",
      "source": [
        "print(fullName.upper())"
      ],
      "metadata": {
        "colab": {
          "base_uri": "https://localhost:8080/"
        },
        "id": "ugjftFtzmcQZ",
        "outputId": "4e6c5b73-d029-4c13-9665-9b811c292b8b"
      },
      "execution_count": null,
      "outputs": [
        {
          "output_type": "stream",
          "name": "stdout",
          "text": [
            "MY NAME IS M.BASHAR SHEIKH AND MY AGE IS 18\n"
          ]
        }
      ]
    },
    {
      "cell_type": "code",
      "source": [
        "print(fullName.split())"
      ],
      "metadata": {
        "colab": {
          "base_uri": "https://localhost:8080/"
        },
        "id": "_12wgFH2mspf",
        "outputId": "465b29d9-98f4-4908-fc87-9a96200867ba"
      },
      "execution_count": null,
      "outputs": [
        {
          "output_type": "stream",
          "name": "stdout",
          "text": [
            "['My', 'name', 'is', 'M.Bashar', 'Sheikh', 'and', 'my', 'age', 'is', '18']\n"
          ]
        }
      ]
    },
    {
      "cell_type": "code",
      "source": [
        "name = input(\"Enter Your Name \")\n",
        "age = input(\"Enter Your Age \")\n",
        "work = input(\"Enter Your Work \")\n",
        "qualification = input(\"Enter your qualification \")\n",
        "info = f'''\n",
        "My name is {name} and age is {age} and I am an expert\n",
        "{work}. I have completed my {qualification} in Medical Science\n",
        "'''\n",
        "print(info)"
      ],
      "metadata": {
        "colab": {
          "base_uri": "https://localhost:8080/"
        },
        "id": "CCF-_uITp47I",
        "outputId": "87cd42b9-d8e1-47fa-aba5-0b3831af4e44"
      },
      "execution_count": null,
      "outputs": [
        {
          "output_type": "stream",
          "name": "stdout",
          "text": [
            "Enter Your Name M.Bashar\n",
            "Enter Your Age 19\n",
            "Enter Your Work Software Development\n",
            "Enter your qualification 2nd year\n",
            "\n",
            "My name is M.Bashar and age is 19 and I am an expert \n",
            "Software Development. I have completed my 2nd year in Medical Science\n",
            "\n"
          ]
        }
      ]
    }
  ]
}