{
  "nbformat": 4,
  "nbformat_minor": 0,
  "metadata": {
    "colab": {
      "provenance": [],
      "authorship_tag": "ABX9TyPV7Jq9nwxvFQuiyT4y/EC+",
      "include_colab_link": true
    },
    "kernelspec": {
      "name": "python3",
      "display_name": "Python 3"
    },
    "language_info": {
      "name": "python"
    }
  },
  "cells": [
    {
      "cell_type": "markdown",
      "metadata": {
        "id": "view-in-github",
        "colab_type": "text"
      },
      "source": [
        "<a href=\"https://colab.research.google.com/github/bashartech/py-collab/blob/main/set_dict.ipynb\" target=\"_parent\"><img src=\"https://colab.research.google.com/assets/colab-badge.svg\" alt=\"Open In Colab\"/></a>"
      ]
    },
    {
      "cell_type": "code",
      "execution_count": null,
      "metadata": {
        "colab": {
          "base_uri": "https://localhost:8080/"
        },
        "id": "zG1bQ-v9a8lF",
        "outputId": "f47d67b0-dbbd-4b15-f0fc-c6dfee61a52a"
      },
      "outputs": [
        {
          "output_type": "stream",
          "name": "stdout",
          "text": [
            "{'name': 'Bashar', 'age': 19, 'occupation': 'Sofrware EngineerWeb development', 'address': {'address1': 'abc street', 'address2': 'xyz street'}}\n",
            "Sofrware EngineerWeb development\n",
            "xyz street\n",
            "o\n"
          ]
        }
      ],
      "source": [
        "# class 4\n",
        "\n",
        "# DICTIONARY\n",
        "\n",
        "std = {\n",
        "    \"name\" : \"Bashar\",\n",
        "    \"age\" : 19,\n",
        "    \"occupation\" : \"Sofrware Engineer\" \"Web development\",\n",
        "    \"address\": {\n",
        "        \"address1\" : \"abc street\",\n",
        "        \"address2\" : \"xyz street\"\n",
        "    }\n",
        "\n",
        "}\n",
        "print(std)\n",
        "print(std['occupation'])\n",
        "print(std[\"address\"][\"address2\"])\n",
        "print(std['occupation'][1])"
      ]
    },
    {
      "cell_type": "code",
      "source": [
        "user = {\n",
        "    \"name\" : \"Bashar\",\n",
        "    22 : \"Roll no\",\n",
        "    (\"BSc\", \"Inter\") : \"Qualification\"\n",
        "}\n",
        "print(user[(\"BSc\", \"Inter\")])\n",
        "user[\"name\"] = \"Saad\"\n",
        "print(user)\n",
        "std['address'][\"address2\"] = \"London\"\n",
        "print(std)"
      ],
      "metadata": {
        "colab": {
          "base_uri": "https://localhost:8080/"
        },
        "id": "M3kKEJRGctiK",
        "outputId": "be09bcaa-86d3-42e4-83ba-fa90422cac8f"
      },
      "execution_count": null,
      "outputs": [
        {
          "output_type": "stream",
          "name": "stdout",
          "text": [
            "Qualification\n",
            "{'name': 'Saad', 22: 'Roll no', ('BSc', 'Inter'): 'Qualification'}\n",
            "{'name': 'Bashar', 'age': 19, 'occupation': 'Sofrware Engineer Web development', 'address': {'address1': 'abc street', 'address2': 'London'}}\n"
          ]
        }
      ]
    },
    {
      "cell_type": "code",
      "source": [
        "# DICTIONARY METHODS\n",
        "print(std)\n",
        "# print(std[\"Bashar\"])\n",
        "print(std.get(\"name\", \"not defined\"))"
      ],
      "metadata": {
        "colab": {
          "base_uri": "https://localhost:8080/"
        },
        "id": "i1y_4PONd4A-",
        "outputId": "ef41679f-4438-4325-e557-60b38c183c22"
      },
      "execution_count": null,
      "outputs": [
        {
          "output_type": "stream",
          "name": "stdout",
          "text": [
            "{'name': 'Bashar', 'age': 19, 'occupation': 'Sofrware EngineerWeb development', 'address': {'address1': 'abc street', 'address2': 'xyz street'}}\n",
            "Bashar\n"
          ]
        }
      ]
    },
    {
      "cell_type": "code",
      "source": [
        "print(std.popitem())\n",
        "del std[\"age\"]\n",
        "print(std)\n",
        "print(std.clear())"
      ],
      "metadata": {
        "colab": {
          "base_uri": "https://localhost:8080/"
        },
        "id": "S0ESpGILflSg",
        "outputId": "4a4fae5c-6fd2-4408-d277-328a2a23db73"
      },
      "execution_count": null,
      "outputs": [
        {
          "output_type": "stream",
          "name": "stdout",
          "text": [
            "('address', {'address1': 'abc street', 'address2': 'xyz street'})\n",
            "{'name': 'Bashar', 'occupation': 'Sofrware EngineerWeb development'}\n",
            "None\n"
          ]
        }
      ]
    },
    {
      "cell_type": "code",
      "source": [
        "print(std.keys())\n",
        "print(std.values())\n",
        "print(std.items())\n",
        "std.update({\"age\": 18,\"name\": \"Uzair\"})\n",
        "std.update({\"class\": 12})\n",
        "print(std)"
      ],
      "metadata": {
        "colab": {
          "base_uri": "https://localhost:8080/"
        },
        "id": "Gu_Zr3TKgRwv",
        "outputId": "74b5b822-9685-4884-8086-c32ef88db4ad"
      },
      "execution_count": null,
      "outputs": [
        {
          "output_type": "stream",
          "name": "stdout",
          "text": [
            "dict_keys(['name', 'age', 'occupation', 'address', 'class'])\n",
            "dict_values(['Bashar', 18, 'Sofrware EngineerWeb development', {'address1': 'abc street', 'address2': 'xyz street'}, 12])\n",
            "dict_items([('name', 'Bashar'), ('age', 18), ('occupation', 'Sofrware EngineerWeb development'), ('address', {'address1': 'abc street', 'address2': 'xyz street'}), ('class', 12)])\n",
            "{'name': 'Uzair', 'age': 18, 'occupation': 'Sofrware EngineerWeb development', 'address': {'address1': 'abc street', 'address2': 'xyz street'}, 'class': 12}\n"
          ]
        }
      ]
    },
    {
      "cell_type": "code",
      "source": [
        "# SETS\n",
        "students_set = { \"taimoor\", \"saad\", \"mahad\", \"hamza\", \"taimoor\"}\n",
        "print(students_set)\n",
        "students_set.add(\"bilal\")\n",
        "print(students_set)"
      ],
      "metadata": {
        "colab": {
          "base_uri": "https://localhost:8080/"
        },
        "id": "xYqXLuyjhQb3",
        "outputId": "e91ea34a-99f7-44d8-b00c-ecef9abc1535"
      },
      "execution_count": null,
      "outputs": [
        {
          "output_type": "stream",
          "name": "stdout",
          "text": [
            "{'hamza', 'mahad', 'taimoor', 'saad'}\n",
            "{'taimoor', 'bilal', 'hamza', 'mahad', 'saad'}\n"
          ]
        }
      ]
    },
    {
      "cell_type": "code",
      "source": [
        "set1 = {1, 2, 3, 4, 6}\n",
        "set2 = {5, 4, 2, 6}\n",
        "print(set1.union(set2))\n",
        "print(set2.union(set1))\n",
        "print(set1.intersection\n",
        " (set2))\n",
        "print(set1.difference\n",
        " (set2))\n",
        "print(set2.difference\n",
        " (set1))\n",
        "print(set1.symmetric_difference\n",
        " (set2))"
      ],
      "metadata": {
        "colab": {
          "base_uri": "https://localhost:8080/"
        },
        "id": "ElqvDdOqh0uD",
        "outputId": "b1d76d49-ac59-47a7-e294-7bbac3ca5fdd"
      },
      "execution_count": null,
      "outputs": [
        {
          "output_type": "stream",
          "name": "stdout",
          "text": [
            "{1, 2, 3, 4, 5, 6}\n",
            "{1, 2, 3, 4, 5, 6}\n",
            "{2, 4, 6}\n",
            "{1, 3}\n",
            "{5}\n",
            "{1, 3, 5}\n"
          ]
        }
      ]
    },
    {
      "cell_type": "code",
      "source": [
        "nums = [1,2,3,2,1,4,50,0,34,21]\n",
        "print(set(nums))\n",
        "\n",
        "students_set = { \"taimoor\", \"saad\", \"mahad\", \"hamza\", \"taimoor\"}\n",
        "students_set.add(\"musab\")\n",
        "print(students_set)\n",
        "\n",
        "# to make set immutable\n",
        "students_set2 = frozenset({ \"taimoor\", \"saad\", \"mahad\", \"hamza\", \"taimoor\"})\n",
        "# students_set2.add(\"musab\") # it will give error\n",
        "print(students_set2)\n"
      ],
      "metadata": {
        "colab": {
          "base_uri": "https://localhost:8080/"
        },
        "id": "Vn3eF16xjIpH",
        "outputId": "5af48120-9a85-4426-ecd0-b36dc7e31666"
      },
      "execution_count": null,
      "outputs": [
        {
          "output_type": "stream",
          "name": "stdout",
          "text": [
            "{0, 1, 2, 3, 4, 34, 50, 21}\n",
            "{'taimoor', 'hamza', 'musab', 'mahad', 'saad'}\n",
            "frozenset({'hamza', 'mahad', 'taimoor', 'saad'})\n"
          ]
        }
      ]
    },
    {
      "cell_type": "code",
      "source": [
        "day = 1\n",
        "match day:\n",
        "  case 1 :\n",
        "    print(\"today is Monday\")\n",
        "  case 2 :\n",
        "    print(\"today is Tuesday\")\n",
        "  case _ :\n",
        "    print(\" today is Sunday \")\n"
      ],
      "metadata": {
        "colab": {
          "base_uri": "https://localhost:8080/"
        },
        "id": "uhT7nx38kcx5",
        "outputId": "a5d40288-dc63-42db-d388-15fd69497e43"
      },
      "execution_count": null,
      "outputs": [
        {
          "output_type": "stream",
          "name": "stdout",
          "text": [
            "today is Monday\n",
            "1\n"
          ]
        }
      ]
    }
  ]
}