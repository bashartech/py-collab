{
  "nbformat": 4,
  "nbformat_minor": 0,
  "metadata": {
    "colab": {
      "provenance": [],
      "authorship_tag": "ABX9TyPe1wdwn1L40FiqxTJWEZMU",
      "include_colab_link": true
    },
    "kernelspec": {
      "name": "python3",
      "display_name": "Python 3"
    },
    "language_info": {
      "name": "python"
    }
  },
  "cells": [
    {
      "cell_type": "markdown",
      "metadata": {
        "id": "view-in-github",
        "colab_type": "text"
      },
      "source": [
        "<a href=\"https://colab.research.google.com/github/bashartech/py-collab/blob/main/Untitled3.ipynb\" target=\"_parent\"><img src=\"https://colab.research.google.com/assets/colab-badge.svg\" alt=\"Open In Colab\"/></a>"
      ]
    },
    {
      "cell_type": "code",
      "execution_count": 2,
      "metadata": {
        "colab": {
          "base_uri": "https://localhost:8080/"
        },
        "id": "jf4VaDOkK9gO",
        "outputId": "8f857f86-9133-4341-84ef-ba85530e16be"
      },
      "outputs": [
        {
          "output_type": "stream",
          "name": "stdout",
          "text": [
            "Enter your first number 978\n",
            "Enter your second number 98\n",
            "Enter your operator (+ , - , / , * , % ) *\n",
            "95844\n"
          ]
        }
      ],
      "source": [
        "# calculator\n",
        "num1 = int(input(\"Enter your first number \"))\n",
        "num2 = int(input(\"Enter your second number \"))\n",
        "operator = input(\"Enter your operator (+ , - , / , * , % ) \")\n",
        "\n",
        "if operator == \"+\":\n",
        "  print(num1 + num2)\n",
        "elif operator == \"-\":\n",
        "  print(num1 - num2)\n",
        "elif operator == \"*\":\n",
        "  print(num1 * num2)\n",
        "elif operator == \"/\":\n",
        "  print(num1 / num2)\n",
        "elif operator == \"-\":\n",
        "  print(num1 - num2)\n",
        "elif operator == \"%\":\n",
        "  print(num1 % num2)\n",
        "else :\n",
        "  print(\"Invalid  operator\")"
      ]
    },
    {
      "cell_type": "code",
      "source": [
        "# Grading System\n",
        "marks = int(input(\"Enter your marks \"))\n",
        "if marks >= 90 and marks <= 99:\n",
        " grade = \"A++\"\n",
        " feedback = \"Marvelous\"\n",
        "elif marks >= 80 and marks <= 89:\n",
        " grade = \"A+\"\n",
        " feedback = \"Excellent\"\n",
        "\n",
        "elif marks >= 70 and marks <= 79:\n",
        " grade = \"A\"\n",
        " feedback = \"Good\"\n",
        "\n",
        "elif marks >= 60 and marks <= 69:\n",
        " grade = \"B\"\n",
        " feedback = \"Nice\"\n",
        "\n",
        "elif marks >= 50 and marks <= 59:\n",
        " grade = \"C\"\n",
        " feedback = \"Fair\"\n",
        "\n",
        "elif marks >= 40 and marks <= 49:\n",
        " grade = \"D\"\n",
        " feedback = \"Poor\"\n",
        "\n",
        "else:\n",
        "  grade = 'F'\n",
        "  feedback = \"Failed\";\n",
        "\n",
        "\n",
        "print(f\"Your Grade is {grade}\" )\n",
        "print(feedback)"
      ],
      "metadata": {
        "colab": {
          "base_uri": "https://localhost:8080/"
        },
        "id": "WeqO0BxNLHNa",
        "outputId": "bb666f7a-eee7-4278-8731-186c378c7e5f"
      },
      "execution_count": 6,
      "outputs": [
        {
          "output_type": "stream",
          "name": "stdout",
          "text": [
            "Enter your marks 39\n",
            "Your Grade is F\n",
            "Failed\n"
          ]
        }
      ]
    }
  ]
}