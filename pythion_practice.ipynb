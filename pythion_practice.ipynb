{
  "nbformat": 4,
  "nbformat_minor": 0,
  "metadata": {
    "colab": {
      "provenance": [],
      "authorship_tag": "ABX9TyOHPTE21+TVYTa0arFP6VK9",
      "include_colab_link": true
    },
    "kernelspec": {
      "name": "python3",
      "display_name": "Python 3"
    },
    "language_info": {
      "name": "python"
    }
  },
  "cells": [
    {
      "cell_type": "markdown",
      "metadata": {
        "id": "view-in-github",
        "colab_type": "text"
      },
      "source": [
        "<a href=\"https://colab.research.google.com/github/bashartech/py-collab/blob/main/pythion_practice.ipynb\" target=\"_parent\"><img src=\"https://colab.research.google.com/assets/colab-badge.svg\" alt=\"Open In Colab\"/></a>"
      ]
    },
    {
      "cell_type": "code",
      "execution_count": 14,
      "metadata": {
        "colab": {
          "base_uri": "https://localhost:8080/"
        },
        "id": "rfrlIdJVgc2c",
        "outputId": "7be13e1f-6c7f-450d-c125-723285c0ef2b"
      },
      "outputs": [
        {
          "output_type": "stream",
          "name": "stdout",
          "text": [
            "['apple', 'banana', 'pear', 'peach', 'melon']\n",
            "banana\n",
            "melon\n",
            "['banana', 'pear', 'peach']\n",
            "['apple', 'banana', 'pear', 'peach', 'melon', 'strawberry']\n",
            "['apple', 'banana', 'pear', 'peach', 'melon', 'strawberry', 'watermelon', 'lichee']\n",
            "['apple', 'banana', 'orange', 'pear', 'peach', 'melon', 'strawberry', 'watermelon', 'lichee']\n",
            "['apple', 'banana', 'orange', 'pear', 'peach', 'melon', 'watermelon', 'lichee']\n",
            "strawberry\n",
            "8\n",
            "['apple', 'banana', 'lichee', 'melon', 'orange', 'peach', 'pear', 'watermelon']\n",
            "1\n",
            "['watermelon', 'pear', 'peach', 'orange', 'melon', 'lichee', 'banana', 'apple']\n"
          ]
        }
      ],
      "source": [
        "# class 3\n",
        "\n",
        "# LIST (array)\n",
        "\n",
        "fruits:list[str] = [\"apple\", \"banana\", \"pear\",\"peach\",\"melon\"]\n",
        "print(fruits)\n",
        "print(fruits[1])\n",
        "print(fruits[-1])\n",
        "print(fruits[1:4]) # slice\n",
        "fruits.append(\"strawberry\")  #to add at last\n",
        "print(fruits)\n",
        "fruits.extend([\"watermelon\",\"lichee\"])\n",
        "print(fruits)\n",
        "fruits.insert(2, \"orange\")\n",
        "print(fruits)\n",
        "store = fruits.pop(6)\n",
        "print(fruits)\n",
        "print(store)\n",
        "# fruits.clear()\n",
        "print(len(fruits))\n",
        "fruits.sort()\n",
        "print(fruits)\n",
        "print(fruits.count(\"banana\"))\n",
        "fruits.reverse()\n",
        "print(fruits)\n",
        "fruits.sort(reverse=True)\n",
        "print(fruits)\n"
      ]
    },
    {
      "cell_type": "code",
      "source": [
        "numbers:list[int] = [1, 34, 5, 23, 99]\n",
        "print(numbers[: : -1]) # it reverse the list\n"
      ],
      "metadata": {
        "colab": {
          "base_uri": "https://localhost:8080/"
        },
        "id": "93MWlcbqj3Da",
        "outputId": "451b0982-e28b-4576-9925-b5dfe96ad598"
      },
      "execution_count": 18,
      "outputs": [
        {
          "output_type": "stream",
          "name": "stdout",
          "text": [
            "[99, 23, 5]\n"
          ]
        }
      ]
    },
    {
      "cell_type": "code",
      "source": [
        "# TUPULE\n",
        "cars:tuple = (\"hello, I am good\" ,\"Bashar \" )\n",
        "car1:list = [\"hello, I am good\", \"Bashar\"]\n",
        "car1[1] = \"saad\"\n",
        "#cars[1] = \"saad\" # it will through an error because tuple are immutable\n",
        "print(car1)\n",
        "print(cars)"
      ],
      "metadata": {
        "colab": {
          "base_uri": "https://localhost:8080/"
        },
        "id": "HbTDDYHskjl9",
        "outputId": "9214eebb-20b2-4599-ba00-cb957b254fa1"
      },
      "execution_count": 23,
      "outputs": [
        {
          "output_type": "stream",
          "name": "stdout",
          "text": [
            "['hello, I am good', 'saad']\n",
            "('hello, I am good', 'Bashar ')\n"
          ]
        }
      ]
    },
    {
      "cell_type": "code",
      "source": [
        "# NUMBERS METHODS\n",
        "print(max(1,2,34,3,22,1))\n",
        "print(max(1,2,34,3,22,1))\n",
        "print(round(2.4))\n",
        "print(round(2.6))\n",
        "print(round(2.5))\n",
        "print(round(3.5))\n",
        "print(pow(3,3))"
      ],
      "metadata": {
        "colab": {
          "base_uri": "https://localhost:8080/"
        },
        "id": "N3Dp443TmDti",
        "outputId": "9cabde71-ccd6-44fb-db64-594bd744980f"
      },
      "execution_count": 25,
      "outputs": [
        {
          "output_type": "stream",
          "name": "stdout",
          "text": [
            "34\n",
            "34\n",
            "2\n",
            "3\n",
            "2\n",
            "4\n",
            "27\n"
          ]
        }
      ]
    }
  ]
}