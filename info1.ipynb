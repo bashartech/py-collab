{
  "nbformat": 4,
  "nbformat_minor": 0,
  "metadata": {
    "colab": {
      "provenance": [],
      "authorship_tag": "ABX9TyObfkoZOjfV4PSu4FB4VjVC",
      "include_colab_link": true
    },
    "kernelspec": {
      "name": "python3",
      "display_name": "Python 3"
    },
    "language_info": {
      "name": "python"
    }
  },
  "cells": [
    {
      "cell_type": "markdown",
      "metadata": {
        "id": "view-in-github",
        "colab_type": "text"
      },
      "source": [
        "<a href=\"https://colab.research.google.com/github/bashartech/py-collab/blob/main/info1.ipynb\" target=\"_parent\"><img src=\"https://colab.research.google.com/assets/colab-badge.svg\" alt=\"Open In Colab\"/></a>"
      ]
    },
    {
      "cell_type": "code",
      "execution_count": 1,
      "metadata": {
        "colab": {
          "base_uri": "https://localhost:8080/"
        },
        "id": "0EMgC05cxmcL",
        "outputId": "54699fa3-3e29-4d67-acf4-1c83bf10e128"
      },
      "outputs": [
        {
          "output_type": "stream",
          "name": "stdout",
          "text": [
            "Enter Your Name M.Bashar Sheikh\n",
            "Enter Your Age 19\n",
            "Enter Your Work Front-end Development\n",
            "Enter your qualification Inter\n",
            "\n",
            "My name is M.Bashar Sheikh and age is 19 and I am an expert\n",
            "Front-end Development. I have completed my Inter in Medical Science\n",
            "\n"
          ]
        }
      ],
      "source": [
        "name = input(\"Enter Your Name \")\n",
        "age = input(\"Enter Your Age \")\n",
        "work = input(\"Enter Your Work \")\n",
        "qualification = input(\"Enter your qualification \")\n",
        "info = f'''\n",
        "My name is {name} and age is {age} and I am an expert\n",
        "{work}. I have completed my {qualification} in Medical Science\n",
        "'''\n",
        "print(info)"
      ]
    }
  ]
}